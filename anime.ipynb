{
 "cells": [
  {
   "cell_type": "code",
   "execution_count": null,
   "metadata": {
    "colab": {
     "base_uri": "https://localhost:8080/"
    },
    "executionInfo": {
     "elapsed": 19547,
     "status": "ok",
     "timestamp": 1747313607652,
     "user": {
      "displayName": "Bori Bathó",
      "userId": "01263107625125774181"
     },
     "user_tz": -120
    },
    "id": "jcwn-7mwAUsm",
    "outputId": "c6dbf53e-9057-46ac-9ad5-842780f68d10"
   },
   "outputs": [
    {
     "name": "stdout",
     "output_type": "stream",
     "text": [
      "Mounted at /content/drive\n"
     ]
    }
   ],
   "source": [
    "import os\n",
    "print(os.getcwd()) "
   ]
  },
  {
   "cell_type": "markdown",
   "metadata": {
    "id": "FNVJUj4LAXBR"
   },
   "source": [
    "# Load and merge the datasets"
   ]
  },
  {
   "cell_type": "code",
   "execution_count": null,
   "metadata": {
    "executionInfo": {
     "elapsed": 47,
     "status": "ok",
     "timestamp": 1747314596071,
     "user": {
      "displayName": "Bori Bathó",
      "userId": "01263107625125774181"
     },
     "user_tz": -120
    },
    "id": "S-gYU7pAA3ta"
   },
   "outputs": [],
   "source": [
    "import pandas as pd\n",
    "\n",
    "# Szerveres elérési útvonal\n",
    "base_path = \"/home/bartho-borbala/~anime/\"\n",
    "\n",
    "anime_path = base_path + \"AnimeList.csv\"\n",
    "users_path = base_path + \"UserList.csv\"\n",
    "ratings_path = base_path + \"UserAnimeList.csv\"\n",
    "\n",
    "# Beolvasás\n",
    "anime = pd.read_csv(anime_path)\n",
    "ratings = pd.read_csv(ratings_path)\n",
    "users = pd.read_csv(users_path)\n",
    "\n",
    "# Összefűzés\n",
    "df = ratings.merge(users, on=\"username\", how=\"left\")\n",
    "df = df.merge(anime, on=\"anime_id\", how=\"left\")\n",
    "\n",
    "# Ellenőrzés\n",
    "print(\"Merged dataframe shape:\", df.shape)\n",
    "print(\"Columns:\", df.columns.tolist())\n"
   ]
  }
 ],
 "metadata": {
  "colab": {
   "authorship_tag": "ABX9TyNOUDKHcVtyGTnnmEGCHKJM",
   "provenance": []
  },
  "kernelspec": {
   "display_name": "Python 3",
   "name": "python3"
  },
  "language_info": {
   "name": "python"
  }
 },
 "nbformat": 4,
 "nbformat_minor": 0
}
